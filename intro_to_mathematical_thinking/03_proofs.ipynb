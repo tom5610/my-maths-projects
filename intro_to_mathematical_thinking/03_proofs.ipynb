{
 "cells": [
  {
   "cell_type": "markdown",
   "metadata": {},
   "source": [
    "### Exercise 3.2.1"
   ]
  },
  {
   "cell_type": "markdown",
   "metadata": {},
   "source": [
    "1. Prove that $\\sqrt{3}$ is irrational.\n",
    "\n",
    "Answer:\n",
    "\n",
    "*Proof*: Assume, on the contrary, that $\\sqrt{3}$ were rational. Then we could find natural numbers p and q such that\n",
    "\n",
    "$\\sqrt{3}$ = p / q\n",
    "\n",
    "where p and q have no common factors. Squring gives\n",
    "\n",
    "3 = $p ^2 / q ^2$\n",
    "\n",
    "which rearranges to give\n",
    "\n",
    "$p^2 = 3 q ^2$\n",
    "\n",
    "thus, $p^2$ is divisible by 3. Hence, p must be divisble by 3. Thus, there is a natural number r such that p = 3r. Substituting for p in the last equation gives\n",
    "\n",
    "$(3r)^2 = 3 q^2$\n",
    "\n",
    "i.e.,\n",
    "\n",
    "$9r^2 = 3 q^2$\n",
    "\n",
    "and dividing both sides by 3 gives\n",
    "\n",
    "$3r^2 = q^2$\n",
    "\n",
    "Thus $q^2$ is divisible by 3. Hence, q must be divisbile by 3. But p is divisible by 3 and both p and q have no common factors. so we have a contradiction. Hence our original assumption that $\\sqrt{3}$ was rational must be false. In other words, $\\sqrt{3}$ must be irrational, which is what we set out to prove. $\\Box$"
   ]
  },
  {
   "cell_type": "markdown",
   "metadata": {},
   "source": [
    "2. Is it true that $\\sqrt{N}$ is irrational for every natural number N?\n",
    "\n",
    "Answer:\n",
    "\n",
    "*Proof*, to prove the statement \"$\\sqrt{N}$ is irrational for every natural number N\" - $\\forall x \\in N (\\sqrt{x}$ is irrational $)$, we just need to find some natural number x, with which $\\sqrt{x}$ is rational, thus, we can justify the statement is False. i.e. when x = 4 and the $\\sqrt{4}$ is 2, which is a rational number. \n",
    "\n",
    "Thus, \"$\\sqrt{N}$ is irrational for every natural number N\" is false."
   ]
  },
  {
   "cell_type": "markdown",
   "metadata": {},
   "source": [
    "3. If not, then for what N is $\\sqrt{N}$ irrational? Formulate and prove a result of the form \"$\\sqrt{N}$ irrational if only if N ...\"\n",
    "\n",
    "Answer:\n",
    "\n",
    "When N is NOT the squaring of other natural number,  $\\sqrt{N}$ is irrational.\n",
    "\n",
    "$\\forall n \\in (n != r^2 \\wedge r \\in N)$ ($\\sqrt{N}$ irrational) "
   ]
  },
  {
   "cell_type": "markdown",
   "metadata": {},
   "source": [
    "### Exercise 3.3.1"
   ]
  },
  {
   "cell_type": "markdown",
   "metadata": {},
   "source": [
    "Let $r, s$ be irrationals. For each of the following, say whether the given number is necessarily irrational, and prove your answer. (The last one is particularly nice. I'll give the solution in a moment, but you should definitely try it first.)\n",
    "\n",
    "1. r + 3 \n",
    "\n",
    "Answer: \n",
    "\n",
    "Irrational. \n",
    "\n",
    "*Proof*: Assumed $r+3$ is rational. Hence, it can be represented as p / q (p & q are natural numbers.)\n",
    "\n",
    "r + 3 = p / q \n",
    "\n",
    "rearranging gives\n",
    "\n",
    "r = (p - 3q) / q\n",
    "\n",
    "as (p - 3q) are natural number, hence (p - 3q) / q is rational, however, $r$ is irrational, whether is contradict. Thus, $r+3$ is not rational.\n"
   ]
  },
  {
   "cell_type": "markdown",
   "metadata": {},
   "source": [
    "2. 5r \n",
    "\n",
    "Answer:\n",
    "\n"
   ]
  },
  {
   "cell_type": "markdown",
   "metadata": {},
   "source": [
    "3. r + s\n"
   ]
  },
  {
   "cell_type": "markdown",
   "metadata": {},
   "source": [
    "4. rs    \n"
   ]
  },
  {
   "cell_type": "markdown",
   "metadata": {},
   "source": [
    "5. $\\sqrt{r}$  \n"
   ]
  },
  {
   "cell_type": "markdown",
   "metadata": {},
   "source": [
    "6. $r^s$"
   ]
  },
  {
   "cell_type": "markdown",
   "metadata": {},
   "source": []
  }
 ],
 "metadata": {
  "language_info": {
   "name": "python"
  },
  "orig_nbformat": 4
 },
 "nbformat": 4,
 "nbformat_minor": 2
}
