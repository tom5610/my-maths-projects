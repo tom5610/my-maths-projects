{
 "cells": [
  {
   "cell_type": "markdown",
   "metadata": {},
   "source": [
    "### Exercise 3.2.1"
   ]
  },
  {
   "cell_type": "markdown",
   "metadata": {},
   "source": [
    "1. Prove that $\\sqrt{3}$ is irrational.\n",
    "\n",
    "Answer:\n",
    "\n",
    "*Proof*: Assume, on the contrary, that $\\sqrt{3}$ were rational. Then we could find natural numbers p and q such that\n",
    "\n",
    "$\\sqrt{3}$ = p / q\n",
    "\n",
    "where p and q have no common factors. Squring gives\n",
    "\n",
    "3 = $p ^2 / q ^2$\n",
    "\n",
    "which rearranges to give\n",
    "\n",
    "$p^2 = 3 q ^2$\n",
    "\n",
    "thus, $p^2$ is divisible by 3. Hence, p must be divisble by 3. Thus, there is a natural number r such that p = 3r. Substituting for p in the last equation gives\n",
    "\n",
    "$(3r)^2 = 3 q^2$\n",
    "\n",
    "i.e.,\n",
    "\n",
    "$9r^2 = 3 q^2$\n",
    "\n",
    "and dividing both sides by 3 gives\n",
    "\n",
    "$3r^2 = q^2$\n",
    "\n",
    "Thus $q^2$ is divisible by 3. Hence, q must be divisbile by 3. But p is divisible by 3 and both p and q have no common factors. so we have a contradiction. Hence our original assumption that $\\sqrt{3}$ was rational must be false. In other words, $\\sqrt{3}$ must be irrational, which is what we set out to prove. $\\Box$"
   ]
  },
  {
   "cell_type": "markdown",
   "metadata": {},
   "source": [
    "2. Is it true that $\\sqrt{N}$ is irrational for every natural number N?\n",
    "\n",
    "Answer:\n",
    "\n",
    "*Proof*, to prove the statement \"$\\sqrt{N}$ is irrational for every natural number N\" - $\\forall x \\in N (\\sqrt{x}$ is irrational $)$, we just need to find some natural number x, with which $\\sqrt{x}$ is rational, thus, we can justify the statement is False. i.e. when x = 4 and the $\\sqrt{4}$ is 2, which is a rational number. \n",
    "\n",
    "Thus, \"$\\sqrt{N}$ is irrational for every natural number N\" is false."
   ]
  },
  {
   "cell_type": "markdown",
   "metadata": {},
   "source": [
    "3. If not, then for what N is $\\sqrt{N}$ irrational? Formulate and prove a result of the form \"$\\sqrt{N}$ irrational if only if N ...\"\n",
    "\n",
    "Answer:\n",
    "\n",
    "When N is NOT the squaring of other natural number,  $\\sqrt{N}$ is irrational.\n",
    "\n",
    "$\\forall n \\in (n != r^2 \\wedge r \\in N)$ ($\\sqrt{N}$ irrational) "
   ]
  },
  {
   "cell_type": "markdown",
   "metadata": {},
   "source": [
    "### Exercise 3.3.1"
   ]
  },
  {
   "cell_type": "markdown",
   "metadata": {},
   "source": [
    "Let $r, s$ be irrationals. For each of the following, say whether the given number is necessarily irrational, and prove your answer. (The last one is particularly nice. I'll give the solution in a moment, but you should definitely try it first.)\n",
    "\n",
    "1. r + 3 \n",
    "\n",
    "Answer: \n",
    "\n",
    "Irrational. \n",
    "\n",
    "*Proof*: Assumed $r+3$ is rational. Hence, it can be represented as p / q (p & q are natural numbers.)\n",
    "\n",
    "r + 3 = p / q \n",
    "\n",
    "rearranging gives\n",
    "\n",
    "r = (p - 3q) / q\n",
    "\n",
    "as (p - 3q) are natural number, hence (p - 3q) / q is rational, however, $r$ is irrational, whether is contradict. Thus, $r+3$ is not rational.\n"
   ]
  },
  {
   "cell_type": "markdown",
   "metadata": {},
   "source": [
    "2. 5r \n",
    "\n",
    "Answer:\n",
    "\n",
    "*Proof*: Assumed 5s is rational. Hence, it can be represented as p / q (p & q are natural numbers.)\n",
    "\n",
    "5s = p / q\n",
    "\n",
    "rearranging gives\n",
    "\n",
    "s = p / (5 * q)\n",
    "\n",
    "thus, (5 * q) is a natural number and we can assume x = 5 * q, so,\n",
    "\n",
    "s = p / x\n",
    "\n",
    "which implies s should be a rational number. However, s is irrational, which is contradict. Thus, 5s is irrational."
   ]
  },
  {
   "cell_type": "markdown",
   "metadata": {},
   "source": [
    "3. r + s\n",
    "\n",
    "Answer:\n",
    "\n",
    "*Proof*: Assumed r + s is rational, hence, it can be represented as p / q (p & q are natural numbers)\n",
    "\n",
    "r + s = p / q\n",
    "\n",
    "rearranging gives\n",
    "\n",
    "s = p / q - r, and s = (p - q * r) / q \n",
    "\n",
    "vs.\n",
    "\n",
    "p = q * r + q * s, given q*r and q*s are irrational, hence we can assumed x = q*r, and y = q*s, thus,\n",
    "\n",
    "p = x + y"
   ]
  },
  {
   "cell_type": "markdown",
   "metadata": {},
   "source": [
    "4. rs    \n"
   ]
  },
  {
   "cell_type": "markdown",
   "metadata": {},
   "source": [
    "5. $\\sqrt{r}$  \n",
    "\n",
    "Answer:\n",
    "\n",
    "*Proof*: Assumed $\\sqrt{r}$ is rational, it can be represented as p / q (p & q are natural numbers)\n",
    "\n",
    "$\\sqrt{r} = p / q$ \n",
    "\n",
    "squaring in both sides gives,\n",
    "\n",
    "$r = p^2 / q ^2$\n",
    "\n",
    "p^2 and q^2 both are natural number, let x = p^2 and y = q^2\n",
    "\n",
    "r = x / y\n",
    "\n",
    "which indicates r is a rational number, and it's contradict as r is irrational. Hence, $\\sqrt{r}$ is irrational. \n"
   ]
  },
  {
   "cell_type": "markdown",
   "metadata": {},
   "source": [
    "6. $r^s$\n",
    "\n",
    "Answer:\n",
    "\n",
    "*Proof*: Assumed $r^s$ is irrational, it can be represented as p / q (p & q are natural numbers)\n",
    "\n",
    "$r^s = p / q$\n",
    "\n",
    "to get the logarithm and rearranging gives, assumed a = p / q\n",
    "\n",
    "$\\log_a r^s = \\log_a a$ -> $s\\log_a r = 1$\n",
    "\n"
   ]
  },
  {
   "cell_type": "markdown",
   "metadata": {},
   "source": [
    "### Exercises 3.3.2"
   ]
  },
  {
   "cell_type": "markdown",
   "metadata": {},
   "source": [
    "1. Explain why proving $\\phi \\Rightarrow \\psi$ and $\\psi \\Rightarrow \\phi$ establishes the truth of $\\phi \\Leftrightarrow \\psi$.\n",
    "\n",
    "Answer:\n",
    "\n",
    "To prove the conditional, we may use truth table to deduce it or we may use proof by contradition. \n",
    "\n",
    "To use truth table:\n",
    "\n",
    "To prove $\\phi \\Rightarrow \\psi \\wedge \\psi \\Rightarrow \\phi$ establish the truth of $\\phi \\Leftrightarrow \\psi$, we can verify the truth table values:\n",
    "\n",
    "| $\\phi$ | $\\psi$ | $\\phi \\Rightarrow \\psi$ | $\\psi \\Rightarrow \\phi$ | $\\phi \\Rightarrow \\psi \\wedge \\psi \\Rightarrow \\phi$ | $\\phi \\Leftrightarrow \\psi$ |\n",
    "|---|---|---|---|---|---|\n",
    "| T | T | T | T | T | T |\n",
    "| T | F | F | T | F | F |\n",
    "| F | T | T | F | F | F |\n",
    "| F | F | T | T | T | T |\n",
    "\n",
    "As the above values, the truth values of $\\phi \\Rightarrow \\psi \\wedge \\psi \\Rightarrow \\phi$ and $\\phi \\Leftrightarrow \\psi$, hence, they are equivalent, and one and implies the other. "
   ]
  },
  {
   "cell_type": "markdown",
   "metadata": {},
   "source": [
    "2. Explain why proving $\\phi \\Rightarrow \\psi$ and $(\\neg \\phi) \\Rightarrow (\\neg \\psi)$ estabishes the truth of $\\phi \\Leftrightarrow \\psi$.\n",
    "\n",
    "Answer:\n",
    "\n",
    "To prove $(\\phi \\Rightarrow \\psi) \\wedge ((\\neg \\phi) \\Rightarrow (\\neg \\psi)) \\Rightarrow (\\phi \\Leftrightarrow \\psi)$; per contrapositive, we may try to prove $\\neg (\\phi \\Leftrightarrow \\psi) \\Rightarrow \\neg ((\\phi \\Rightarrow \\psi) \\wedge ((\\neg \\phi) \\Rightarrow (\\neg \\psi)))$\n",
    "\n",
    "For $\\neg (\\phi \\Leftrightarrow \\psi)$, it equals to $\\neg (\\phi \\Rightarrow \\psi \\wedge \\psi \\Rightarrow \\phi)$ -> $(\\neg (\\phi \\Rightarrow \\psi)) \\vee (\\neg (\\psi \\Rightarrow \\phi))$, and then\n",
    "\n",
    "$(\\neg (\\neg \\phi \\vee \\psi)) \\vee (\\neg (\\neg \\psi \\vee \\phi))$, then\n",
    "\n",
    "$(\\phi \\wedge \\neg \\psi) \\vee (\\psi \\wedge \\neg \\phi)$ and then,\n",
    "\n",
    "$\\neg (\\phi \\wedge \\neg \\psi) \\wedge \\neg (\\psi \\wedge \\neg \\phi)$ ->\n",
    "\n",
    "$(\\neg \\phi \\vee \\psi) \\wedge (\\neg \\psi \\vee \\phi)$ \n",
    "\n",
    "$(\\neg \\phi \\vee \\psi)$ is equivalent to $(\\phi \\Rightarrow \\psi)$, and $(\\neg \\psi \\vee \\phi)$ is equivalent to $((\\neg \\phi) \\Rightarrow (\\neg \\psi))$ ($\\phi \\vee \\neg \\psi$)$. Hence, the conditional is equivalent. "
   ]
  },
  {
   "cell_type": "markdown",
   "metadata": {},
   "source": [
    "3. Prove that if five investors split a payout of $2 million, at least one investor receives at least $400,000.\n",
    "\n",
    "Answer:\n",
    "\n",
    "***Proof***\n",
    "\n",
    "there are many ways for five investors to split a payout of $2M, and basically, there are two situations: splitting evenly or unevenly.\n",
    "\n",
    "When spliting evenly, $2M / 5 = 400,000, each of the five investors receives at least $400,000; since 5 > 1, the proposition is proved; when spliting unevenly, some the investors may get less and the others may get more, e.g. based on the spliting evenly case, we can move money from one to the others, and the extreme case can be the money of 4 of the five can be moved to the other - the one, which result in 4 get 0 and 1 get $2M, and it does prove that at least one investor receives at least $400,000."
   ]
  },
  {
   "cell_type": "markdown",
   "metadata": {},
   "source": [
    "4. Write down the converses of the following conditional statements:\n",
    "\n",
    "(a) If the Dollar falls, the Yuan will rise.\n",
    "\n",
    "If the Yuan rises, the Dollar will fall\n",
    "\n",
    "(b) If x < y then -y < -x. (for x, y real number)\n",
    "\n",
    "If -y < -x then x > y. (for x, y real number)\n",
    "\n",
    "(c) If two triangles are congruent they have the same area.\n",
    "\n",
    "If two triangles have the same area, they are congruent.\n",
    "\n",
    "(d) The duadratic equation $ax^2 + bx + c = 0$ has a solution whenever $b^2 >= 4a$ (Where a, b, c, x denote real numbers and a != 0)\n",
    "\n",
    "$b^2 >= 4a$ is True whenever the duadratic equation $ax^2 + bx + c = 0$ has a solution.\n",
    "\n",
    "(e) Let ABCD be a quadrilateral. If the opposite sides of ABCD are pair-wise equal, then the opposite angles are pairwise equal.\n",
    "\n",
    "Let ABCD be a quadrilateral. If the opposite angles are pairwise equal, then the opposite sides of ABCD are pair-wise equal.\n",
    "\n",
    "(f) Let ABCD be a quadrilateral. If all four sides of ABCD are equal, then all four angles are equal.\n",
    "\n",
    "Let ABCD be a quadrilateral. If all four angles are equal, then all four sides of ABCD are equal.\n",
    "\n",
    "(g) If n is not divisible by 3 then n^2 + 5 is divisible by 3 (for n a natural number.)\n",
    "\n",
    "If n^2 + 5 is divisible by 3, then n is not divisible by 3. (for n a natural number.)\n",
    "\n"
   ]
  },
  {
   "cell_type": "markdown",
   "metadata": {},
   "source": [
    "5. Discounting the first example, which of the statements in the previous exercise are true, for which is the converse true and which are equivalent? Prove your answers.\n",
    "\n",
    "Answer:\n",
    "\n",
    "(b) If x < y then -y < -x. (for x, y real number)\n",
    "\n",
    "\n",
    "\n",
    "(c) If two triangles are congruent they have the same area.\n",
    "\n",
    "If two triangles have the same area, they are congruent.\n",
    "\n",
    "(d) The duadratic equation $ax^2 + bx + c = 0$ has a solution whenever $b^2 >= 4a$ (Where a, b, c, x denote real numbers and a != 0)\n",
    "\n",
    "$b^2 >= 4a$ is True whenever the duadratic equation $ax^2 + bx + c = 0$ has a solution.\n",
    "\n",
    "(e) Let ABCD be a quadrilateral. If the opposite sides of ABCD are pair-wise equal, then the opposite angles are pairwise equal.\n",
    "\n",
    "Let ABCD be a quadrilateral. If the opposite angles are pairwise equal, then the opposite sides of ABCD are pair-wise equal.\n",
    "\n",
    "(f) Let ABCD be a quadrilateral. If all four sides of ABCD are equal, then all four angles are equal.\n",
    "\n",
    "Let ABCD be a quadrilateral. If all four angles are equal, then all four sides of ABCD are equal.\n",
    "\n",
    "(g) If n is not divisible by 3 then n^2 + 5 is divisible by 3 (for n a natural number.)\n",
    "\n",
    "If n^2 + 5 is divisible by 3, then n is not divisible by 3. (for n a natural number.)\n",
    "\n"
   ]
  },
  {
   "cell_type": "markdown",
   "metadata": {},
   "source": []
  },
  {
   "cell_type": "markdown",
   "metadata": {},
   "source": []
  }
 ],
 "metadata": {
  "kernelspec": {
   "display_name": "Python 3.9.6 64-bit",
   "language": "python",
   "name": "python3"
  },
  "language_info": {
   "name": "python",
   "version": "3.9.6"
  },
  "orig_nbformat": 4,
  "vscode": {
   "interpreter": {
    "hash": "31f2aee4e71d21fbe5cf8b01ff0e069b9275f58929596ceb00d14d90e3e16cd6"
   }
  }
 },
 "nbformat": 4,
 "nbformat_minor": 2
}
