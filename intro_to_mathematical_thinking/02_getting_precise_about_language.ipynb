{
 "cells": [
  {
   "cell_type": "markdown",
   "metadata": {},
   "source": [
    "# Getting Pricise about Language\n",
    "\n",
    "## 2.1 Mathematical statements\n",
    "\n",
    "Modern, pure mathematics is primarily concerned with `statements` about mathematical objects. Mathematical objects are things such as: Integers, real number, sets, functions, etc.\n",
    "\n",
    "Not only mathematicians interested in statements, they are, above all, interested in knowing which statements are true and which are false. \n",
    "\n",
    "The ancient Greek mathematicians seem to have been the first to notice that all mathematical statements can be expressed using one of these simple forms, and they made a systematic study of the language involved, namely the terms `and`, `or`, `not`, `implies`, `for all`, and `there exists`. They provided universally accepted meaning of these key terms and analyzed their bahavior. Today this formal mathematical study is know as `formal logic` or `mathematical logi`."
   ]
  },
  {
   "cell_type": "markdown",
   "metadata": {},
   "source": [
    "### Exercises 2.1.1"
   ]
  },
  {
   "cell_type": "markdown",
   "metadata": {},
   "source": [
    "1. How would you show that not every number of the form $N = (p1 \\cdot p2 \\cdot p3 ... pn) + 1$ is prime, where p1, p2, p3,... pn,... is the list of all prime numbers?\n",
    "\n",
    "$N$ is prime in a form of $N = (p1 \\cdot p2 \\cdot p3 ... pn) + 1$.\n",
    "\n",
    "The idea is to show that if we list the primes in increasing order as\n",
    "\n",
    "$p1, p2, p3,...,pn,...$\n",
    "\n",
    "then the list must continue for ever. (The first few members of the sequence are $p1=2, p2=3, p3=5, p4=7, p5=11,...$)\n",
    "\n",
    "Consider the list up to some stage n:\n",
    "\n",
    "The goal is to show there is a $N$ is *NOT* prime. We need to justify there will be $N$ having factors besides 1 & $N$. Then there must be a prime q < N such that q divides N. But none of p1,...,pn divides N, since the division of N by any one of these leaves a remainder of 1. \n",
    "\n"
   ]
  },
  {
   "cell_type": "markdown",
   "metadata": {},
   "source": [
    "2. Find two unambiguous (but natural sounding) sentences equavalent to the sentences `The man saw the woman with a telescope`, the first where the man has the telescope, the second where the woman has the telscope.\n",
    "\n",
    "    a. The woman was seen by the man with a telescope.\n",
    "    b. The woman with a telescope was seen by the man."
   ]
  },
  {
   "cell_type": "markdown",
   "metadata": {},
   "source": [
    "3. For each of the four ambiguous newspaper headlines I stated earlier, rewrite it in a way that avoids the amusing second meaning, while retaining the brevity of a typical headline:\n",
    "  a) Sisters reunited after ten years in checkout line at Safeway\n",
    "  b) Prostitutes appeal to the Pope\n",
    "  c) Large hole appears in High Street, City authorities are looking into it\n",
    "  d) Mayor says bus passengers should be belted\n",
    "\n",
    "Rewriting:\n",
    "  a) After ten years, sisters reunited in checkout line at Safeway\n",
    "  b) Prostitutes request Pope\n",
    "  c) City authorities are investigating a large hole in High Street\n",
    "  d) May says bus passengers should fasten their seat belt."
   ]
  },
  {
   "cell_type": "markdown",
   "metadata": {},
   "source": [
    "4. The following notice was posted on the wall of a hospital emergency room: \n",
    "  NO HEAD INJURY IS TOO TRIVIAL TO IGNORE.\n",
    "Reformulate to avoid the unintended second reading. (The context for this sentence is so strong that many people have difficulty seeing there is an alternative meaning.)\n",
    "\n",
    "Rewriting\n",
    "  NOT IGNORE TRIVIAL HEAD INJURY."
   ]
  },
  {
   "cell_type": "markdown",
   "metadata": {},
   "source": [
    "5. You often see the following notice posted in elevators:\n",
    "  IN CASE OF FIRE, DO NOT USE ELEVATOR.\n",
    "\n",
    "  This one always amuses me. Comment on the two meanings and reformulate to avoid the unintended second reading. (again, given the context for the notice, the ambiguity is not problematic.)\n",
    "\n",
    "Answer:\n",
    "\n",
    "Potential means: 1) while it's on fire, please do not use elevator. 2) what to use if there is a fire?\n",
    "\n",
    "if there is a fire, please do not use elevator"
   ]
  },
  {
   "cell_type": "markdown",
   "metadata": {},
   "source": [
    "6. Official documents often contain one or more pages that are empty aprt from one sentence at the bottom:\n",
    "\n",
    "This page intentionally left blank\n",
    "\n",
    "Does the sentence make a strue statement? What is the purpose of making such as statement? What reformulation of the sentence would avoid any logical problems about truth? (Once again, the context means that in practice everyone understands the intended meaning and there is no problem. But the formulation of a similar sentence in mathematics at the start of the twentieth century destroyed one prominent mathematician's seminal work and led to a major revolution in an entire branch of mathematics)\n",
    "\n",
    "\n",
    "Answer:\n",
    "\n",
    "a) No. The sentence indicates that the page is not blank\n",
    "b) It may be a separator for sections in the documents.\n",
    "c) This page is a separator before next section / chapter.\n"
   ]
  },
  {
   "cell_type": "markdown",
   "metadata": {},
   "source": [
    "7. Find (and provide citations for ) three examples of published sentences whose literal meaning is (clearly) not what the writer intended. [This is much easier than you might think. Ambiguity is very common]\n",
    "\n",
    "Answer:\n",
    "\n",
    "1) to celebrate 9.18 event (China was invaded by Japan in 1935.9.18)\n",
    "2) \n",
    "3)\n"
   ]
  },
  {
   "cell_type": "markdown",
   "metadata": {},
   "source": [
    "8. Comment on the sentence \"The temperature is hot today\" You hear people say things like this all the time, and everyone understands what is meant. But using language in this sloppy way in mathematics would be disastrous.\n",
    "\n",
    "Answer:\n",
    "\n",
    "temperature is a kind of measurement for weather and it comes up with ranges, which means it can be high or low; when it's high, we usually say \"the weather is hot\", vice verse."
   ]
  },
  {
   "cell_type": "markdown",
   "metadata": {},
   "source": [
    "9. Provide a context and a sentence within that context, where the word `and` occurs five times in succession, with no other word between those five occurances (you are allowed to use punctuation.)\n",
    "\n",
    "Answer:\n",
    "\n",
    "I have no clues."
   ]
  },
  {
   "cell_type": "markdown",
   "metadata": {},
   "source": [
    "10. Provide a context a sentence within that context, where the words `and`, `or`, `and`, `or`, `and` occur in that order, with no other word between them. (Again, you can use punctuation.)\n",
    "\n",
    "Answer:\n",
    "\n",
    "context: travel from A to C via B\n",
    "sentence: I wanted to travel from A to C, with that I can take ferry from A to B and take a bus from B to C, or I can take uber from A to B and ride from B to C, or I can run from A to B and walk from B to C."
   ]
  },
  {
   "cell_type": "markdown",
   "metadata": {},
   "source": [
    "## The Logical Combinators AND, OR, and NOT"
   ]
  },
  {
   "cell_type": "markdown",
   "metadata": {},
   "source": [
    "### Exercises 2.2.1\n",
    "\n",
    "1. The mathematical concept of conjunction captures the meaning of \"and\" in everyday language. True or false? Explain your answer.\n",
    "\n",
    "Answer:\n",
    "\n",
    "False; `and` is independent of order in mathemathics: $\\phi \\wedge \\psi$ means the same thing as $\\psi \\wedge \\phi$. However, in everyday language, `and` is being used in situations where order of sequence matters very often, e.g. I go home and turn on TV."
   ]
  },
  {
   "cell_type": "markdown",
   "metadata": {},
   "source": [
    "2. Simplify the following symbolic statements as much as you can, leaving your answer in the standard symbolic form. (In case you are not familiar with the notation, I've answer the first one for you)\n",
    "\n",
    "(a) $(\\pi > 0) \\wedge (\\pi < 10)$ [Answer: 0 < $\\pi$ < 10]\n",
    "\n",
    "(b) $(p \\ge 7) \\wedge (p < 12)$ [Answer: $7 \\le p < 12$]\n",
    "\n",
    "(c) (x > 5) $\\wedge$ (x < 7) [Answer: 5 < x < 7]\n",
    "\n",
    "(d) (x < 4) $\\wedge$ (x < 6) [Answer: x < 4]\n",
    "\n",
    "(e) (y < 4) $\\wedge$ $(y^2 < 9)$ [Answer: $(y^2 < 9)$]\n",
    "\n",
    "(f) $(x \\ge 0) \\wedge (x \\le 0)$ [Answer: x = 0]"
   ]
  },
  {
   "cell_type": "markdown",
   "metadata": {},
   "source": [
    "3. Express each of your simplified statements from Question 2 in natural English.\n",
    "\n",
    "Answer:\n",
    "\n",
    "(a) $\\pi$ is larger than 0 and less than 10.\n",
    "\n",
    "(b) $p$ is larger and equal to 7 and less than 12.\n",
    "\n",
    "(c) $x$ is larger than 5 and less than 7\n",
    "\n",
    "(d) $x$ is less than 4\n",
    "\n",
    "(e) $y^2$ is less than 9\n",
    "\n",
    "(f) x is equal to 0."
   ]
  },
  {
   "cell_type": "markdown",
   "metadata": {},
   "source": [
    "4. What strategy would you adopt to show that the conjunction $\\phi\\mathnormal{1} \\wedge \\phi\\mathnormal{2} \\wedge ...\\phi\\mathnormal{n}$ is true?\n",
    "\n",
    "Answer:\n",
    "\n",
    "Basically, given we can use $\\phi \\wedge \\psi$ form to evaluate true / false of the statement, we may change $\\phi\\mathnormal{1} \\wedge \\phi\\mathnormal{2} \\wedge ...\\phi\\mathnormal{n}$ to be a form of $(((\\phi\\mathnormal{1} \\wedge \\phi\\mathnormal{2}) \\wedge \\phi\\mathnormal{3}) ... \\wedge \\phi(\\mathnormal{n-1})) \\wedge \\phi \\mathnormal{n}$; then, all of $\\phi\\mathnormal{x}$ must be `True` so that the whole expression is `True`"
   ]
  },
  {
   "cell_type": "markdown",
   "metadata": {},
   "source": [
    "5. What strategy would you adopt to show that the conjunction $\\phi\\mathnormal{1} \\wedge \\phi\\mathnormal{2} \\wedge ...\\phi\\mathnormal{n}$ is false?\n",
    "\n",
    " Answer:\n",
    "\n",
    "Basically, given we can use $\\phi \\wedge \\psi$ form to evaluate true / false of the statement, we may change $\\phi\\mathnormal{1} \\wedge \\phi\\mathnormal{2} \\wedge ...\\phi\\mathnormal{n}$ to be a form of $(((\\phi\\mathnormal{1} \\wedge \\phi\\mathnormal{2}) \\wedge \\phi\\mathnormal{3}) ... \\wedge \\phi(\\mathnormal{n-1})) \\wedge \\phi \\mathnormal{n}$; then, any of $\\phi\\mathnormal{x}$ is `False` result in the whole expression is `False`"
   ]
  },
  {
   "cell_type": "markdown",
   "metadata": {},
   "source": [
    "6. Is it possible for one of $(\\phi \\wedge \\psi) \\wedge \\theta$ and $\\phi \\wedge (\\psi \\wedge \\theta)$ to be true and the other false, or does the associative property hold for conjunction? Prove your answer.\n",
    "\n",
    "Answer:\n",
    "\n",
    "It's impossible.\n",
    "\n",
    "| $\\phi$ | $\\psi$  | $\\theta$  | $(\\phi \\wedge \\psi) \\wedge \\theta$  |  $\\phi \\wedge (\\psi \\wedge \\theta)$ |\n",
    "|---|---|---|---|---|\n",
    "| 0 | 0 | 0 | 0 | 0 |\n",
    "| 0 | 0 | 1 | 0 | 0 |\n",
    "| 0 | 1 | 0 | 0 | 0 |\n",
    "| 0 | 1 | 1 | 0 | 0 |\n",
    "| 1 | 0 | 0 | 0 | 0 |\n",
    "| 1 | 0 | 1 | 0 | 0 |\n",
    "| 1 | 1 | 0 | 0 | 0 |\n",
    "| 1 | 1 | 1 | 1 | 1 |\n",
    "\n"
   ]
  },
  {
   "cell_type": "markdown",
   "metadata": {},
   "source": [
    "7. Which of the following is more likely?\n",
    "\n",
    "(a) Alice is a rock start and works in a bank\n",
    "(b) Alice is quiet and works in a bank\n",
    "(c) Alice is quiet and reserved and works in a bank\n",
    "(d) Alice is honest and works in a bank\n",
    "(e) Alice works in a bank\n",
    "\n",
    "If you believe there is no definite answer, say no\n",
    "\n",
    "Answer:\n",
    "\n",
    "(e) is more likely. Because, per statement base:\n",
    "  * Alice is a rock star\n",
    "  * Alice works in a bank\n",
    "  * Alice is quiet\n",
    "  * Alice is reserved\n",
    "  * Alice is honest\n",
    "\n",
    "Each of them may be equally True or False, which means 50% to to be the case. With 'and' operator, it's a multiple relationship and hence, statement with more than 1 statement, it's probability to be will be lower. Hence, (e) is more likely."
   ]
  },
  {
   "cell_type": "markdown",
   "metadata": {},
   "source": [
    "8. In the follow table, T denotes 'true', and F denotes 'false'. The first two columns list of the possible combinations of values of T and F that the true statements $\\phi$ and $\\psi$ can have. The thrid column should give the truth value (T or F) $\\phi \\wedge \\psi$ achives according to each assignment of T or F to $\\phi$ and $\\psi$.\n",
    "\n",
    "|  $\\phi$ | $\\psi$ | $\\phi \\wedge \\psi$ |\n",
    "|---|---|---|\n",
    "| T | T | T |\n",
    "| T | F | F |\n",
    "| F | T | F |\n",
    "| F | F | F |\n",
    "\n",
    "Fill in the final column. The resulting table is an example of a \"propositional true table.\"\n",
    "\n"
   ]
  },
  {
   "cell_type": "markdown",
   "metadata": {},
   "source": [
    "### Exercises 2.2.2\n",
    "\n",
    "1. Simplify the following symbolic statements as much as you can, leaving your answer in a standard symbolic form (assuming you are familiar with the notation):\n",
    "\n",
    "(a) $(\\pi \\lt 3) \\vee (\\pi \\lt 10)$ \n",
    "\n",
    "$(\\pi \\lt 3)$\n",
    "\n",
    "(b) $(x < 0) \\vee (x > 0)$\n",
    "\n",
    "$(x != 0)$\n",
    "\n",
    "(c) $(x = 0) \\vee (x > 0)$\n",
    "\n",
    "$(x >= 0)$\n",
    "\n",
    "(d) $(x > 0) \\vee (x \\ge 0)$\n",
    "\n",
    "$(x \\ge 0)$\n",
    "\n",
    "(e) $(x > 3) \\vee (x^2 > 9)\n",
    "\n",
    "$(x < -3) \\vee (x > 3)$"
   ]
  },
  {
   "cell_type": "markdown",
   "metadata": {},
   "source": [
    "2. Express each of your simplified statements from Question 1 in natural English.\n",
    "\n",
    "Answer:\n",
    "\n",
    "(a) $\\pi$ is larger than 3\n",
    "\n",
    "(b) $x$ is not equal to 0\n",
    "\n",
    "(c) $x$ is large or equal to 0 ($x$ is not less than 0)\n",
    "\n",
    "(d) $x$ is large or equal to 0\n",
    "\n",
    "(e) $x$ is less than -3 or larger than 3"
   ]
  },
  {
   "cell_type": "markdown",
   "metadata": {},
   "source": [
    "3. What strategy would you adopt to show that the disjunction $\\phi\\mathnormal1 \\vee \\phi\\mathnormal2 \\vee ...  \\phi n$ is true?\n",
    "\n",
    "Answer:\n",
    "\n",
    "I simplify the expression format $\\phi\\mathnormal1 \\vee (\\phi\\mathnormal2 \\vee ...  \\phi n)$, try to put it to be two statements like expression and evaluate the whole per disjunction rule. \n",
    "\n",
    "Overall, as long as any statement $\\phi x$ is true, the whole disjunction is true. otherwise, it's false."
   ]
  },
  {
   "cell_type": "markdown",
   "metadata": {},
   "source": [
    "4. What strategy would you adopt to show that the disjunction $\\phi\\mathnormal1 \\vee \\phi\\mathnormal2 \\vee ...  \\phi n$ is false?\n",
    "\n",
    "Answer:\n",
    "\n",
    "I simplify the expression format $\\phi\\mathnormal1 \\vee (\\phi\\mathnormal2 \\vee ...  \\phi n)$, try to put it to be two statements like expression and evaluate the whole per disjunction rule. \n",
    "\n",
    "Overall, as long as all statements $\\phi x$ are false, the whole disjunction is false, otherwise, it's true."
   ]
  },
  {
   "cell_type": "markdown",
   "metadata": {},
   "source": [
    "5. Is it possible for one of $(\\phi \\vee \\psi) \\vee \\theta$ and $\\phi \\vee (\\psi \\vee \\theta)$ to be true and the other false, or does the associative property hold for disjunction? Prove your answer.\n",
    "\n",
    "Answer:\n",
    "\n",
    "Associative property hold true for disjunction. We can use 'propositional truth table' to compare the disjunction values for both. Other than that, the disjunction rule indicates that at least one of the statement is valid in order for the disjunction to be true, hence, given the disjunction is all about $\\vee$, it doesn't matter which statements are being evaluate first."
   ]
  },
  {
   "cell_type": "markdown",
   "metadata": {},
   "source": [
    "6. Which of the following is more likely?\n",
    "\n",
    "(a) Alice is a rock star or she works in a bank\n",
    "\n",
    "(b) Alice is quiet and works in a bank\n",
    "\n",
    "(c) Alice is a rock star\n",
    "\n",
    "(d) Alice is honest and works in a bank\n",
    "\n",
    "(e) Alice works in a bank.\n",
    "\n",
    "If you believe there is no definite answer, say no.\n",
    "\n",
    "Answer:\n",
    "\n",
    "a, b, d are more likely.\n",
    "\n",
    "basically, we have no idea about Alice (whether she works in a bank, is quiet or is a rock star). So, for each statement, it's likely 50% that it's true, hence, c & e are both 50%; but a, b, & d are higher, as there are two statements in it, and with a propositional truth table evluation, the probability of being true is 75%. \n",
    "\n",
    "|  $\\phi$ | $\\psi$ | $\\phi \\vee \\psi$ |\n",
    "|---|---|---|\n",
    "| T | T | T |\n",
    "| T | F | T |\n",
    "| F | T | T |\n",
    "| F | F | F |\n",
    "\n",
    "Only when both are false, it's false."
   ]
  },
  {
   "cell_type": "markdown",
   "metadata": {},
   "source": [
    "7. Fill in the entries in the final column of the following truth table:\n",
    "\n",
    "|  $\\phi$ | $\\psi$ | $\\phi \\vee \\psi$ |\n",
    "|---|---|---|\n",
    "| T | T | T |\n",
    "| T | F | T |\n",
    "| F | T | T |\n",
    "| F | F | F |"
   ]
  },
  {
   "cell_type": "markdown",
   "metadata": {},
   "source": [
    "### Exercise 2.2.3"
   ]
  },
  {
   "cell_type": "markdown",
   "metadata": {},
   "source": [
    "1. Simplify the following symbolic statements as much as you can, leaving your answer in a standard symbolic form (assuming you are familiar with the notation):\n",
    "\n",
    "(a) $\\neg(\\pi > 3.2)$ \n",
    "\n",
    "(b) $\\neg(x < 0)$\n",
    "\n",
    "(c) $\\neg(x ^ 2 > 0)$\n",
    "\n",
    "(d) $\\neg(x = 1)$\n",
    "\n",
    "(e) $\\neg\\neg\\psi$\n",
    "\n",
    "Answer:\n",
    "\n",
    "(a) $\\pi <= 3.2$\n",
    "\n",
    "(b) $x >= 0$\n",
    "\n",
    "(c) $x^2 <= 0$ -> $x = 0$\n",
    "\n",
    "(d) $x < 1 \\vee x > 1$ -> $x != 1$\n",
    "\n",
    "(e) $\\psi$"
   ]
  },
  {
   "cell_type": "markdown",
   "metadata": {},
   "source": [
    "2. Express each of your simplified statements from Question 1 in natural English.\n",
    "\n",
    "Answer:\n",
    "\n",
    "(a) $\\pi$ is less or equal to 3.2\n",
    "\n",
    "(b) $x$ is large or equal to 0\n",
    "\n",
    "(c) $x$ is equal to 0\n",
    "\n",
    "(d) $x$ is not equal to 1\n",
    "\n",
    "(e) $\\psi$"
   ]
  },
  {
   "cell_type": "markdown",
   "metadata": {},
   "source": [
    "3. Is showing that the negation $\\neg\\phi$ is true the same as show that $\\phi$ is false? Explain your answer.\n",
    "\n",
    "Answer:\n",
    "\n",
    "Per negation rule, if a statement is true, not-statement is false; and if a statement is false, not-statement is true; hence, if $\\neg\\phi$ is true, $\\phi$ must be false. ($\\phi$ can not be true, otherwise, $\\neg\\phi$ is false.)"
   ]
  },
  {
   "cell_type": "markdown",
   "metadata": {},
   "source": [
    "4. Fill in the entries in the final column of the following truth table\n",
    "\n",
    "|$\\phi$|$\\neg\\phi$|\n",
    "|---|---|\n",
    "|T| ? |\n",
    "|F| ? |\n",
    "\n",
    "Answer:\n",
    "\n",
    "|$\\phi$|$\\neg\\phi$|\n",
    "|---|---|\n",
    "|T| F |\n",
    "|F| T |"
   ]
  },
  {
   "cell_type": "markdown",
   "metadata": {},
   "source": [
    "5. Let D be the statement \"The dollar is strong\", Y the statement \"The Yuan is strong\", and T the statement \"New US-China trade agreement signed\". Express the main content of each of the following (fictitious) newspaper headlines in logical notation. (Note that logical notation captures truth, but not the many nuances and inferences of natural language.) Be prepared to justify and defend your answers.\n",
    "\n",
    "(a) Dollar and Yuan both strong\n",
    "\n",
    "(b) Trade agreement fails on news of weak Dollar\n",
    "\n",
    "(c) Dollar weak but Yuan strong, following new trade agreement\n",
    "\n",
    "(d) Strong Dollar means a weak Yuan\n",
    "\n",
    "(e) Yuan weak despite new trade agreement, but Dollar remains strong\n",
    "\n",
    "(f) Dollar and Yuan can't both be strong at the same time.\n",
    "\n",
    "(g) If new trade agreement is signed, Dollar and Yuan can't both remain strong\n",
    "\n",
    "(h) New trade agreement does not prevent fall in Dollar and Yuan\n",
    "\n",
    "(i) US-China trade agreement fails but both currencies remain strong\n",
    "\n",
    "(j) New trade agreement will be good for one side, but no one knows which.\n",
    "\n",
    "Answer:\n",
    "\n",
    "(a) $D \\wedge Y = True$\n",
    "\n",
    "(b) $(\\neg D \\wedge \\neg T) = True$\n",
    "\n",
    "(c) $(\\neg D \\wedge Y) \\wedge T) = True$\n",
    "\n",
    "(d) $(D \\wedge \\neg Y) = True$\n",
    "\n",
    "(e) $(\\neg Y \\wedge T) \\wedge D) = True$\n",
    "\n",
    "(f) $\\neg (D \\wedge Y) = True$\n",
    "\n",
    "(g) $T \\wedge \\neg(D \\wedge Y) = True$\n",
    "\n",
    "(h) $T \\wedge \\neg(D \\vee Y) = True$\n",
    "\n",
    "(i) $\\neg T \\wedge (D \\wedge Y) = True$\n",
    "\n",
    "(j) $T \\wedge ((D \\vee Y) \\wedge \\neg (D \\wedge Y)) = True$"
   ]
  },
  {
   "cell_type": "markdown",
   "metadata": {},
   "source": []
  },
  {
   "cell_type": "markdown",
   "metadata": {},
   "source": [
    "6. In US law, a trial verdict of \"Not guilty\" is given when the prosecution fails to prove guilt. This, of course, does not mean the defendant is, as a matter of actual fact, innocent. Is this state of affairs captured accurately when we use \"not\" in the mathematical sense? (i.e., Do \"Not guilty\" and \"$\\neg$ guilty\" mean the same thing?) What if we change the question to ask if \"Not proven\" and \"\\neg proven\" mean the same thing?\n",
    "\n",
    "Answer:\n",
    "\n",
    "It doesn't capture accurately when we use \"not\" in  mathematical sense, i.e. 'Not guilty' in trial verdict means 'not prove to be guilty', but in mathematical sense, \"$\\neg guilty$\" means that it's innocent.\n",
    "\n",
    "\"Not proven\" does mean the same thing as \"$\\neg proven\", as mathemathical sense wise, 'not proven' means the same as \"\\neg proven\""
   ]
  },
  {
   "cell_type": "markdown",
   "metadata": {},
   "source": [
    "7. The truth table for $\\neg\\neg\\psi$ is clearly the same as that for $\\psi$ itself, so the two expressions make identical truth assertions. This is not necessarily true for negation in everyday life. For example, you might find yourself saying \"I was not displeased with the movie.\" In terms of formal negation, this has the for $\\neg(\\neg PLEASED)$, but your statement clearly does not mean that you were pleased with the movie. Indeed, it means something considerably less positive. How would you capture this kind of use of language in the formal framework we have been looking at?\n",
    "\n",
    "Answer:\n",
    "\n",
    "In the formal framwork we have been looking at for now, there is impossible to describe the extent of True or False, but each a statement is True or False. With the everyday life scenario, when it comes to depict the extent, we can't use the framework to describe it. "
   ]
  },
  {
   "cell_type": "markdown",
   "metadata": {},
   "source": [
    "## 2.3 Implication"
   ]
  },
  {
   "cell_type": "markdown",
   "metadata": {},
   "source": [
    "### Exercises 2.3.1"
   ]
  },
  {
   "cell_type": "markdown",
   "metadata": {},
   "source": [
    "1. Fill in the second row of the truth table.\n",
    "\n",
    "|  $\\phi$ | $\\psi$ | $\\phi \\Rightarrow \\psi$ |\n",
    "|---|---|---|\n",
    "| T | T | T |\n",
    "| T | F | F |\n",
    "| F | T | ? |\n",
    "| F | F | ? |"
   ]
  },
  {
   "cell_type": "markdown",
   "metadata": {},
   "source": [
    "2. Provide a justification of your entry\n",
    "\n",
    "Answer\n",
    "\n",
    "For a valid and genuine implication $\\phi$ implies $\\psi$, then the truth of $\\phi$ implies the truth of $\\psi$; with that, it's impossible for situation that $\\phi$ implies the falsity of $\\psi$. On the other hand, for the genuine implication, when the antecedent of conditional meets, the consequent should be true."
   ]
  },
  {
   "cell_type": "markdown",
   "metadata": {},
   "source": [
    "### Exercises 2.3.2"
   ]
  },
  {
   "cell_type": "markdown",
   "metadata": {},
   "source": [
    "1. Fill in the third and fourth rows of the truth table.\n",
    "\n",
    "|  $\\phi$ | $\\psi$ | $\\phi \\Rightarrow \\psi$ |\n",
    "|---|---|---|\n",
    "| T | T | T |\n",
    "| T | F | F |\n",
    "| F | T | T or F |\n",
    "| F | F | T when $\\phi$ is the only antecedant of conditional, or T or F |"
   ]
  },
  {
   "cell_type": "markdown",
   "metadata": {},
   "source": [
    "2. Provide justifications for your entries.\n",
    "\n",
    "Answer:\n",
    "\n",
    "For the valid and genuine implication conditional, the truth of consequent can be resulted in by multiple antecedants (e.g. N > 7 $\\Rightarrow$ $N^2 + x$ > 40) or only one antecedant (e.g. N > 7 $\\Rightarrow$ $N^2$ > 40); \n",
    "\n",
    "For the third row, when the consequent is by only one antecedant, then the consequent must be false, hence, row 3 conditional is false; when it's multiple ones, the consequent can be truth or falsity.\n",
    "\n",
    "For the fourth row, when the consequent is by only one antecedant, then the consequent must be false when the antecedant is false, hence, the conditional is True; when it's multiple ones, the consequent can be true or false then. "
   ]
  },
  {
   "cell_type": "markdown",
   "metadata": {},
   "source": [
    "### Exercise 2.3.3"
   ]
  },
  {
   "cell_type": "markdown",
   "metadata": {},
   "source": [
    "1. Which of the following are true and which are false?\n",
    "\n",
    "(a) $(\\pi ^2 > 2) \\Rightarrow (\\pi > 1.4)$\n",
    "\n",
    "(b) $(\\pi ^2 < 0) \\Rightarrow (\\pi = 3)$\n",
    "\n",
    "(c) $(\\pi ^2 > 0) \\Rightarrow (1 + 2 = 4)$\n",
    "\n",
    "(d) $(\\pi < \\pi ^2) \\Rightarrow (\\pi = 5)$\n",
    "\n",
    "(e) $(e^2 \\le 0) \\Rightarrow (e < 0)$\n",
    "\n",
    "(f) $\\neg$ (5  is an integer) $\\Rightarrow$ (5^2 >= 1)\n",
    "\n",
    "(g) (The area of a circle of radius 1 is $\\pi$) $\\Rightarrow$ (3 is prime)\n",
    "\n",
    "(h) (Squares have three sides) $\\Rightarrow$ (Triangles have four sides)\n",
    "\n",
    "(i) (Elephants can climb trees) $\\Rightarrow$ (3 is irrational)\n",
    "\n",
    "(j) (Euclid's birthday was July 4) $\\Rightarrow$ (Rectangles have four sides)\n",
    "\n",
    "Answer:\n",
    "\n",
    "(a) True\n",
    "\n",
    "(b) True\n",
    "\n",
    "(c) False\n",
    "\n",
    "(d) False\n",
    "\n",
    "(e) True\n",
    "\n",
    "(f) True\n",
    "\n",
    "(g) True\n",
    "\n",
    "(h) True\n",
    "\n",
    "(i) True\n",
    "\n",
    "(j) True"
   ]
  },
  {
   "cell_type": "markdown",
   "metadata": {},
   "source": [
    "2. As in Exercise 2.2.3(5), let D be the statement \"The dollar is strong\", Y the statement \"The Yuan is strong\", and T the statement \"New US-China trade agreement signed.\" Express the main content of each of the following (fictitious) newspaper headlines in logical notation. (Remember, logical notation captures truth, but no the many nuances and inferences of natural language.) As before, be prepared to justify and defend your answer. \n",
    "\n",
    "(a) New trade agreement will lead to strong currencies in both countries\n",
    "\n",
    "(b) If the trade agreement is signed, a rise in the Yuam will result in a fall in the Dollar\n",
    "\n",
    "(c) Dollar weak but Yuan strong, following new trade agreement\n",
    "\n",
    "(d) Strong Dollar means a weak Yuan\n",
    "\n",
    "(e) New trade agreement means Dollar and Yuan will be tightly linked.\n",
    "\n",
    "Answer:\n",
    "\n",
    "(a) $T \\Rightarrow (D \\wedge Y)$\n",
    "\n",
    "(b) $(T \\wedge Y) \\Rightarrow \\neg D$\n",
    "\n",
    "(c) $(\\neg D \\wedge Y) \\Rightarrow T$\n",
    "\n",
    "(d) $D \\Rightarrow \\neg Y$\n",
    "\n",
    "(e) $T \\Rightarrow ((D \\wedge Y) \\vee \\neg (D \\vee Y))$ (assumed tightly linked means either both are strong or both are weak in the same time.)"
   ]
  },
  {
   "cell_type": "markdown",
   "metadata": {},
   "source": [
    "3. Compute the following truth table\n",
    "\n",
    "|  $\\phi$ | $\\neg \\phi$ | $\\psi$ | $\\phi \\Rightarrow \\psi$ | $\\neg \\phi \\Rightarrow \\psi$ |\n",
    "|---|---|---|---|---|\n",
    "| T | F | T | T | T |\n",
    "| T | F | F | F | T |\n",
    "| F | T | T | T | T |\n",
    "| F | T | F | T | F |\n",
    "\n",
    "NOte: $\\neg$ has the same binding rules as - (minus) in arithmetica and algebra, so $\\neg\\phi \\vee \\psi$ is the same as $(\\neg \\phi) \\vee \\psi$"
   ]
  },
  {
   "cell_type": "markdown",
   "metadata": {},
   "source": [
    "4. What conclusion can you draw from the above table?\n",
    "\n",
    "Answer:\n",
    "\n",
    "In a conditional, when the consequent ($\\psi$) is true, it's always true no matter whether the antecedant is true or false."
   ]
  },
  {
   "cell_type": "markdown",
   "metadata": {},
   "source": [
    "5. Complete the following truth table. (Recall that $\\phi \\nRightarrow \\psi$ is another way of writing $\\neg[\\phi \\Rightarrow \\psi]$)\n",
    "\n",
    "|  $\\phi$ | $\\psi$ | $\\neg \\psi$ | $\\phi \\Rightarrow \\psi$ | $\\phi \\nRightarrow \\psi$ | $\\phi \\wedge \\neg \\psi$ |\n",
    "|---|---|---|---|---|---|\n",
    "| T | T | F | T | F | F |\n",
    "| T | F | T | F | T | T |\n",
    "| F | T | F | T | F | F |\n",
    "| F | F | T | T | F | F |"
   ]
  },
  {
   "cell_type": "markdown",
   "metadata": {},
   "source": [
    "6. What conclusions can you draw from the above table?\n",
    "\n",
    "Answer:\n",
    "\n",
    "Conditional \"$\\phi \\nRightarrow \\psi$\" equals to expression \"$\\phi \\wedge \\neg \\psi$\" - they both have the same truth table. "
   ]
  },
  {
   "cell_type": "markdown",
   "metadata": {},
   "source": [
    "### Notes\n",
    "\n",
    "`equivalent` - if each implies the other. $\\phi \\Leftrightarrow \\psi$\n",
    "\n",
    "|  $\\phi$ | $\\psi$ | $\\phi \\Rightarrow \\psi$ | $\\psi \\Rightarrow \\phi$ |\n",
    "|---|---|---|---|\n",
    "| T | T | T | T |\n",
    "| T | F | F | T |\n",
    "| F | T | T | F |\n",
    "| F | F | T | T |\n",
    "\n",
    "the biconditional $\\phi \\Leftrightarrow \\psi$ will be true if $\\phi$ and $\\psi$ are both true or both false, and it will be false if exactly one of $\\phi$, $\\psi$ is true and the other false."
   ]
  },
  {
   "cell_type": "markdown",
   "metadata": {},
   "source": [
    "### Exercises 2.3.4"
   ]
  },
  {
   "cell_type": "markdown",
   "metadata": {},
   "source": [
    "1. Build a true table to prove the claim I made earlier that $\\phi \\Leftrightarrow \\psi$ is true if $\\phi$ and $\\psi$ are both true or both false and $\\phi \\Leftrightarrow \\psi$ is false if exactly one of $\\phi$, $\\psi$  is true and the other false. (To constitute a proof, your table should have columns that show how the entries for $\\phi \\Leftrightarrow \\psi$) are derived, one operator at a time, as the previous exercises.)\n",
    "\n",
    "Answer:\n",
    "\n",
    "|  $\\phi$ | $\\psi$ | $\\phi \\Rightarrow \\psi$ | $\\psi \\Rightarrow \\phi$ | $(\\phi \\Rightarrow \\psi) \\wedge (\\psi \\Rightarrow \\phi)$ |\n",
    "|---|---|---|---|---|\n",
    "| T | T | T | T | T |\n",
    "| T | F | F | T | F |\n",
    "| F | T | T | F | F |\n",
    "| F | F | T | T | T |\n",
    "\n",
    "the conditional is $(\\phi \\Rightarrow \\psi) \\wedge (\\psi \\Rightarrow \\phi)$, which is equal to $\\phi \\Leftrightarrow \\psi$. Per the truth table, it proves that $\\phi \\Leftrightarrow \\psi$ is true if $\\phi$ and $\\psi$ are both true or both false and $\\phi \\Leftrightarrow \\psi$ is false if exactly one of $\\phi$, $\\psi$  is true and the other false. "
   ]
  },
  {
   "cell_type": "markdown",
   "metadata": {},
   "source": [
    "2. Build a true table to show that\n",
    "\n",
    "$(\\phi \\Rightarrow \\psi) \\Leftrightarrow (\\neg \\phi \\vee \\psi)$\n",
    "\n",
    "is true for all truth values of $\\phi$ and $\\psi$. A statement whose truth values are all T is called a logical validity, or sometimes a tautology.\n",
    "\n",
    "Answer:\n",
    "\n",
    "|  $\\phi$ | $\\neg \\phi$ | $\\psi$ | $\\phi \\Rightarrow \\psi$ | $\\neg \\phi \\vee \\psi$ | $(\\phi \\Rightarrow \\psi) \\Leftrightarrow (\\neg \\phi \\vee \\psi)$ | \n",
    "|---|---|---|---|---|---|\n",
    "| T | F | T | T | T | T |\n",
    "| T | F | F | F | F | T |\n",
    "| F | T | T | T | T | T |\n",
    "| F | T | F | T | T | T | \n",
    "\n",
    "As the above truth table lists, $(\\phi \\Rightarrow \\psi) \\Leftrightarrow (\\neg \\phi \\vee \\psi)$ is true for all truth values of $\\phi$ and $\\psi$, hence, it's a tautology. "
   ]
  },
  {
   "cell_type": "markdown",
   "metadata": {},
   "source": [
    "3. Build a truth table to show that \n",
    "\n",
    "$(\\phi \\nRightarrow \\psi) \\Leftrightarrow (\\phi \\wedge \\neg \\psi)$\n",
    "\n",
    "is a tautology.\n",
    "\n",
    "Answer:\n",
    "\n",
    "|  $\\phi$ | $\\psi$ | $\\neg \\psi$ | $\\phi \\Rightarrow \\psi$ | $\\phi \\wedge \\neg \\psi$ | $(\\phi \\Rightarrow \\psi) \\Leftrightarrow (\\phi \\wedge \\neg \\psi)$ |\n",
    "|---|---|---|---|---|---|\n",
    "| T | T | F | T | F | F |\n",
    "| T | F | T | F | T | T |\n",
    "| F | T | F | T | F | F |\n",
    "| F | F | T | T | F | F |\n",
    "\n",
    "As the above truth table lists, $(\\phi \\nRightarrow \\psi) \\Leftrightarrow (\\phi \\wedge \\neg \\psi)$ not true for all truth values of $\\phi$ and $\\psi$, hence, it's not a tautology."
   ]
  },
  {
   "cell_type": "markdown",
   "metadata": {},
   "source": [
    "4. The ancient Greeks formulated a basic rule of reasoning for proving mathematical statements. Called `modus ponens`, it says that if you know $\\phi$ and you know $\\phi \\Rightarrow \\psi$, then you can conclude $\\psi$.\n",
    "\n",
    "  (a) Construct a truth table for the logical statement\n",
    "\n",
    "  $[\\phi \\wedge (\\phi \\Rightarrow \\psi)] \\Rightarrow \\psi$\n",
    "\n",
    "|  $\\phi$ | $\\psi$ | $\\phi \\Rightarrow \\psi$ | $[\\phi \\wedge (\\phi \\Rightarrow \\psi)]$ | $[\\phi \\wedge (\\phi \\Rightarrow \\psi)] \\Rightarrow \\psi$ |\n",
    "|---|---|---|---|---|\n",
    "| T | T | T | T | T |\n",
    "| T | F | F | F | T |\n",
    "| F | T | T | F | T |\n",
    "| F | F | T | F | T |\n",
    "\n",
    "  (b) Explain how the truth table you obtain demonstrates that modus ponens is a valid rule of inference.\n",
    "\n",
    "  with the truth table, we can see that all true for $[\\phi \\wedge (\\phi \\Rightarrow \\psi)] \\Rightarrow \\psi$, and hence, it's tautology; and, on the values of $[\\phi \\wedge (\\phi \\Rightarrow \\psi)]$, it justifies that if $\\phi$ is T, and  $\\phi \\Rightarrow \\psi$ is true, $\\psi$ must be true. (otherwise, $\\phi \\Rightarrow \\psi$ will be F)\n",
    "\n"
   ]
  },
  {
   "cell_type": "markdown",
   "metadata": {},
   "source": [
    "5. `Mod-2 arithmetic` has just the two numbers 0 and 1 and follows the usual rules of arithmetic together with the additional rule 1 + 1 = 0. (it is the arithmetic that takes place in a single bit location in a digital computer.) Complete the follow table.\n",
    "\n",
    "| M | N | M x N | M + N |\n",
    "|---|---|---|---|\n",
    "| 1 | 1 | 1 | 0 |\n",
    "| 1 | 0 | 0 | 1 |\n",
    "| 0 | 1 | 0 | 1 |\n",
    "| 0 | 0 | 0 | 0 |"
   ]
  },
  {
   "cell_type": "markdown",
   "metadata": {},
   "source": [
    "6. In the table you obtained in the above exercise, interpret 1 as T and 0 as F and view M, N as statements.\n",
    "\n",
    "(a) Which of the logical combinators $\\wedge$, $\\vee$ corresponds to x?\n",
    "\n",
    "(b) Which logical combinator corresponds to +?\n",
    "\n",
    "(c) Does $\\neg$ correspond to - (minus)?\n",
    "\n",
    "Answer:\n",
    "\n",
    "(a) $\\wedge$ corresponds to x, as they both are T only if M and N both are T, otherwise, F.\n",
    "\n",
    "(b) as Mod-2 arithmetic with the rule 1 + 1 = 0, which is different than 1 $\\vee$ 1 = 1, hence, + can't be expressed with a logical combinator, but a expression - $(\\neg M \\wedge N) \\vee (M \\wedge \\neg N)$\n",
    "\n",
    "(c) No. $\\neg$ flip T to F, or F to T and it's for one component; by the - (minus) is a digit base calculation between two components, or: -0 = 0-0 = 0; -1 = 0-1 = 1; hence, it doesn't flip T & F in between."
   ]
  },
  {
   "cell_type": "markdown",
   "metadata": {},
   "source": [
    "7. Repeat the above exercise, but interpret 0 as T and 1 as F. What conclusions can you draw?\n",
    "\n",
    "\n",
    "| M | N | M $\\wedge$ N | $(\\neg M \\wedge N) \\vee (M \\wedge \\neg N)$ |\n",
    "|---|---|---|---|\n",
    "| T | T | T | F |\n",
    "| T | F | F | T |\n",
    "| F | T | F | T |\n",
    "| F | F | F | F |\n",
    "\n",
    "the exclusive OR (xor) works like + in Mod-2 arithmetic calculation, and $\\wedge$ is equals to x operator in mod-2 arithmetic."
   ]
  },
  {
   "cell_type": "markdown",
   "metadata": {},
   "source": [
    "8. The following puzzle was introduced by the psychologist Peter Wason in 1966, and is one of the most famous subject tests in the psychology of reasoning. Most people get it wrong. (So you have been warned)\n",
    "\n",
    "Four cards are placed on the table in front of you. You are told (truthfully) that each has a letter printed on one side and a digit on the other, but of course you can only see one face of each. What you see is:\n",
    "\n",
    "B  E  4  7\n",
    "\n",
    "You are now told that the cards you are looking at were chosen to follow the rule \"If there is a vowel on one side, then there is an odd number on the other side.\" What is the least number of cards you `have` to turn over to verify this rule, and which cards do you in fact `have` to turn over?\n",
    "\n",
    "Answer:\n",
    "\n",
    "Per the rule, it's modus ponens rule:  \n",
    " * $\\phi$ is there is a vowel on one side\n",
    " * $\\psi$ is there is an odd number on the other side\n",
    " * if we know $\\phi$ and $\\phi \\Rightarrow \\psi$, then we know $\\psi$.\n",
    "\n",
    " To verify the rule, we can base on the above; and there 2 cards - E & 4, because -\n",
    "\n",
    " For card B, it indicates $\\phi$ is F, hence the conditional $\\phi \\Rightarrow \\psi$ will be True and we don't need to turn;\n",
    "\n",
    " For card E, it's a vowel and hence $\\phi$ is T, we need to verify the other side so that we can verify the rule, hence we need to turn it over.\n",
    "\n",
    " For card 4, it's an even number - $\\psi$ is F, to verify the rule, we need to verify whether the other is a vowel or not. If it's F, the rule is fine; otherwise, the rule is false. Hence we need to turn it over.\n",
    "\n",
    " For card 7, it's an odd number - $\\psi$ is T, with that, per $\\phi \\Rightarrow \\psi$ rule, it doesn't matter whether $\\phi$ is T or F, the conditional is T. We don't need to do any then.\n"
   ]
  },
  {
   "cell_type": "markdown",
   "metadata": {},
   "source": [
    "### Exercises 2.3.5"
   ]
  },
  {
   "cell_type": "markdown",
   "metadata": {},
   "source": [
    "1. One way to prove that\n",
    "\n",
    "$\\neg (\\phi \\wedge \\psi)$ and $(\\neg \\phi) \\vee (\\neg \\psi)$\n",
    "\n",
    "are equivalent is to show they have the same truth table:\n",
    "\n",
    "| $\\phi$ | $\\psi$ | $\\phi \\wedge \\psi$ | * $\\neg (\\phi \\wedge \\psi)$ | $\\neg \\phi$ | $\\neg \\psi$ | * $(\\neg \\phi) \\vee (\\neg \\psi)$ |\n",
    "|---|---|---|---|---|---|---|\n",
    "| T | T | T | F | F | F | F |\n",
    "| T | F | F | T | F | T | T |\n",
    "| F | T | F | T | T | F | T |\n",
    "| F | F | F | T | T | T | T |\n",
    "\n",
    "Since the two columns marked * are identical, we know that the two expressions are equaivalent.\n",
    "\n",
    "Thus, negation has the effect that it changes $\\vee$ into $\\wedge$ and changes $\\wedge$ into $\\vee$. An alternative way to prove this is to argue directly with the meaning of the first statement:\n",
    "\n",
    "1. $\\phi \\wedge \\psi$ means both $\\phi$ and $\\psi$ are true.\n",
    "2. Thus $\\neg (\\phi \\wedge \\psi)$ means it is not the case that both $\\phi$ and $\\psi$ are true.\n",
    "3. If they are not both true, then at least one of $\\phi$, $\\psi$ must be false.\n",
    "4. This is clearly the same as saying that at least one of $\\neg \\phi$ and $\\neg \\psi$ is true.\n",
    "5. By the meaning of or, this can be expressed as $(\\neg \\phi) \\vee (\\neg \\psi)$\n",
    "\n",
    "Provide an analogous logical argument to show that $\\neg (\\phi \\vee \\psi)$ and $(\\neg \\phi) \\wedge (\\neg \\psi)$ are equivalent.\n",
    "\n",
    "Answer:\n",
    "\n",
    "We will use truth table to verify the two. \n",
    "\n",
    "| $\\phi$ | $\\psi$ | $\\phi \\vee \\psi$ | * $\\neg (\\phi \\vee \\psi)$ | $\\neg \\phi$ | $\\neg \\psi$ | * $(\\neg \\phi) \\wedge (\\neg \\psi)$ |\n",
    "|---|---|---|---|---|---|---|\n",
    "| T | T | T | F | F | F | F |\n",
    "| T | F | T | F | F | T | F |\n",
    "| F | T | T | F | T | F | F |\n",
    "| F | F | F | T | T | T | T |\n",
    "\n",
    "Since the two columns marked * are identical, we know that the two expressions are equivalent.\n",
    "\n",
    "An alternative way to prove this is to argue directly with the meaning:\n",
    "\n",
    "1. $\\phi$ represents Tom has a dog; $\\psi$ represents Tom has a pig;\n",
    "2. $(\\phi \\vee \\psi)$ means Tom has a dog or a pig, and it means either of them is true, the expression is true.\n",
    "3. $\\neg (\\phi \\vee \\psi)$ means Tom neither have a dog, nor a pig, which means Tom doesn't have a dog and Tom doesn't have a pig, hence $(\\neg \\phi) \\wedge (\\neg \\psi)$\n",
    "\n"
   ]
  },
  {
   "cell_type": "markdown",
   "metadata": {},
   "source": [
    "2. By a denial of a statement $\\phi$ we mean any statement equivalent to $\\neg \\phi$. Give a use denial of each of the following statement.\n",
    "\n",
    "(a) 34,159 is a prime number\n",
    "\n",
    "(b) Roses are red and voilets are blue. \n",
    "\n",
    "(c) If there are no hamburgers, I'll have a hot dog.\n",
    "\n",
    "(d) Fred will go but he will not play.\n",
    "\n",
    "(e) The number x is either negative or greater than 10.\n",
    "\n",
    "(f) We will win the first game or the second.\n",
    "\n",
    "Answer:\n",
    "\n",
    "(a) 34,159 is not a prime number\n",
    "\n",
    "(b) Roses are not red or voilets are not blue\n",
    "\n",
    "(c) If there are no hamburgers, I won't have a hot dog; If there are hamburgers, I'll have a hot dog; If there are hamburgers, I won't have a hot dog.\n",
    "\n",
    "(d) Fred won't go, or he will play\n",
    "\n",
    "(e) The number x is positive and is less and equal to 10.\n",
    "\n",
    "(f) We won't win the first and the second game. "
   ]
  },
  {
   "cell_type": "markdown",
   "metadata": {},
   "source": [
    "3. Which of the following considtions is necessary for the natural number n to be divisible by 6?\n",
    "\n",
    "(a) n is divisible by 3\n",
    "\n",
    "(b) (a) n is divisible by 9\n",
    "\n",
    "(c) n is divisible by 12.\n",
    "\n",
    "(d) n = 24\n",
    "\n",
    "(e) n^2 is divisible by 3\n",
    "\n",
    "(f) n is even and divisible by 3"
   ]
  },
  {
   "cell_type": "markdown",
   "metadata": {},
   "source": [
    "## Reference Session\n",
    "\n",
    "* [Truth table](https://sites.millersville.edu/bikenaga/math-proof/truth-tables/truth-tables.html)"
   ]
  },
  {
   "cell_type": "markdown",
   "metadata": {},
   "source": []
  }
 ],
 "metadata": {
  "kernelspec": {
   "display_name": "Python 3.8.13 ('dev')",
   "language": "python",
   "name": "python3"
  },
  "language_info": {
   "codemirror_mode": {
    "name": "ipython",
    "version": 3
   },
   "file_extension": ".py",
   "mimetype": "text/x-python",
   "name": "python",
   "nbconvert_exporter": "python",
   "pygments_lexer": "ipython3",
   "version": "3.8.13"
  },
  "orig_nbformat": 4,
  "vscode": {
   "interpreter": {
    "hash": "8e7b77e62dfff1c0a15854cbc369c56bc22d1ccdbf82fcc46c996706e213f9f1"
   }
  }
 },
 "nbformat": 4,
 "nbformat_minor": 2
}
